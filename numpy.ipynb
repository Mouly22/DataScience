{
  "nbformat": 4,
  "nbformat_minor": 0,
  "metadata": {
    "colab": {
      "name": "numpy.ipynb",
      "provenance": [],
      "authorship_tag": "ABX9TyNVq6ICLGWYN5xW+wGXLamg",
      "include_colab_link": true
    },
    "kernelspec": {
      "name": "python3",
      "display_name": "Python 3"
    },
    "language_info": {
      "name": "python"
    }
  },
  "cells": [
    {
      "cell_type": "markdown",
      "metadata": {
        "id": "view-in-github",
        "colab_type": "text"
      },
      "source": [
        "<a href=\"https://colab.research.google.com/github/Mouly22/DataScience/blob/main/numpy.ipynb\" target=\"_parent\"><img src=\"https://colab.research.google.com/assets/colab-badge.svg\" alt=\"Open In Colab\"/></a>"
      ]
    },
    {
      "cell_type": "code",
      "execution_count": null,
      "metadata": {
        "colab": {
          "base_uri": "https://localhost:8080/"
        },
        "id": "UuMOhxfi0JPY",
        "outputId": "88aaf828-f4b8-4c49-85db-f23a4036533c"
      },
      "outputs": [
        {
          "output_type": "stream",
          "name": "stdout",
          "text": [
            "[ 2  3 46 24]\n"
          ]
        }
      ],
      "source": [
        "from numpy import *\n",
        "arr = array([2,3,46,24])\n",
        "print(arr)\n"
      ]
    },
    {
      "cell_type": "code",
      "source": [
        ""
      ],
      "metadata": {
        "id": "J6QFf7qjv2oH"
      },
      "execution_count": null,
      "outputs": []
    },
    {
      "cell_type": "code",
      "source": [
        "import numpy as np\n"
      ],
      "metadata": {
        "id": "h4FZMFNrv20Q"
      },
      "execution_count": null,
      "outputs": []
    },
    {
      "cell_type": "code",
      "source": [
        "a = np.array([[1, 2, 3, 5,4,5], [2, 4, 6,6,7, 5]])\n",
        "print(a)"
      ],
      "metadata": {
        "colab": {
          "base_uri": "https://localhost:8080/"
        },
        "id": "Y6-fW390v28x",
        "outputId": "0f08dd6a-8d0e-46ef-ccb3-d0396685345e"
      },
      "execution_count": null,
      "outputs": [
        {
          "output_type": "stream",
          "name": "stdout",
          "text": [
            "[[1 2 3 5 4 5]\n",
            " [2 4 6 6 7 5]]\n"
          ]
        }
      ]
    },
    {
      "cell_type": "code",
      "source": [
        "#get a specific element:\n",
        "\n",
        "print(a[1, -2])"
      ],
      "metadata": {
        "colab": {
          "base_uri": "https://localhost:8080/"
        },
        "id": "1xXfvgEhv3CX",
        "outputId": "8bf3f169-e42f-469b-ffeb-8cab60dd1f05"
      },
      "execution_count": null,
      "outputs": [
        {
          "output_type": "stream",
          "name": "stdout",
          "text": [
            "6\n"
          ]
        }
      ]
    },
    {
      "cell_type": "code",
      "source": [
        "#get a specific row:\n",
        "print(a[0, :])\n"
      ],
      "metadata": {
        "colab": {
          "base_uri": "https://localhost:8080/"
        },
        "id": "1Nnas_hgv3Ho",
        "outputId": "143c12fd-e1ed-4d29-d86f-dfe2c3640664"
      },
      "execution_count": null,
      "outputs": [
        {
          "output_type": "stream",
          "name": "stdout",
          "text": [
            "[1 2 3 5]\n"
          ]
        }
      ]
    },
    {
      "cell_type": "code",
      "source": [
        "#get a specofic column:\n",
        "print(a[:, 1])"
      ],
      "metadata": {
        "colab": {
          "base_uri": "https://localhost:8080/"
        },
        "id": "ayixZdOnv3LU",
        "outputId": "a609427e-d762-4973-a922-8b7c6b0882a2"
      },
      "execution_count": null,
      "outputs": [
        {
          "output_type": "stream",
          "name": "stdout",
          "text": [
            "[2 4]\n"
          ]
        }
      ]
    },
    {
      "cell_type": "code",
      "source": [
        "print(a[0, 1:4:2 ])            #you have to write step here using colon(the last two is actually stepsize)"
      ],
      "metadata": {
        "colab": {
          "base_uri": "https://localhost:8080/"
        },
        "id": "p3RWDNyJv3PE",
        "outputId": "99888d99-f4a3-4fe3-fac4-3b86b4931af0"
      },
      "execution_count": null,
      "outputs": [
        {
          "output_type": "stream",
          "name": "stdout",
          "text": [
            "[2 5]\n"
          ]
        }
      ]
    },
    {
      "cell_type": "code",
      "source": [
        "#3D \n",
        "p = np.array([[[2,4], [6,4]],[[3,6],[2,1]]])\n",
        "print(p)"
      ],
      "metadata": {
        "colab": {
          "base_uri": "https://localhost:8080/"
        },
        "id": "_GdmXaFsv3R8",
        "outputId": "43ae392f-6b57-47f9-9aee-4fb3dd7ae623"
      },
      "execution_count": null,
      "outputs": [
        {
          "output_type": "stream",
          "name": "stdout",
          "text": [
            "[[[2 4]\n",
            "  [6 4]]\n",
            "\n",
            " [[3 6]\n",
            "  [2 1]]]\n"
          ]
        }
      ]
    },
    {
      "cell_type": "code",
      "source": [
        "#get specific element from that 3D:\n",
        "print(p[0,1,1])     #eikhane uporer matrix access korle 0 r nicher matrix access korle 1; so 0 and 1. then matrix access korar pore row access, then specific value access"
      ],
      "metadata": {
        "colab": {
          "base_uri": "https://localhost:8080/"
        },
        "id": "Hh5FBZMkv3Vc",
        "outputId": "e7ae3018-a69a-4ab4-e9f3-84ba4731078f"
      },
      "execution_count": null,
      "outputs": [
        {
          "output_type": "stream",
          "name": "stdout",
          "text": [
            "4\n"
          ]
        }
      ]
    },
    {
      "cell_type": "code",
      "source": [
        "#replace:\n",
        "p[1,1,0] = 30        #replace one specific value\n",
        "print(p)\n"
      ],
      "metadata": {
        "colab": {
          "base_uri": "https://localhost:8080/"
        },
        "id": "qD99xs5iv3Y1",
        "outputId": "8437c428-bfbd-4d82-da3c-9f9b71dd55aa"
      },
      "execution_count": null,
      "outputs": [
        {
          "output_type": "stream",
          "name": "stdout",
          "text": [
            "[[[ 2  4]\n",
            "  [45 34]]\n",
            "\n",
            " [[ 3  1]\n",
            "  [30  4]]]\n"
          ]
        }
      ]
    },
    {
      "cell_type": "code",
      "source": [
        "#replace one whole row:\n",
        "p[0,0,:] = [4, 16]\n",
        "print(p)"
      ],
      "metadata": {
        "colab": {
          "base_uri": "https://localhost:8080/"
        },
        "id": "8gK99toSv3cd",
        "outputId": "37b7f2ac-4340-442b-dfc1-e76964938f09"
      },
      "execution_count": null,
      "outputs": [
        {
          "output_type": "stream",
          "name": "stdout",
          "text": [
            "[[[ 4 16]\n",
            "  [45 34]]\n",
            "\n",
            " [[ 3  1]\n",
            "  [30  4]]]\n"
          ]
        }
      ]
    },
    {
      "cell_type": "code",
      "source": [
        "#replace one whole column:\n",
        "p[0,:,0] = [5 , 10]\n",
        "print(p)"
      ],
      "metadata": {
        "colab": {
          "base_uri": "https://localhost:8080/"
        },
        "id": "swEjxcn-v3f7",
        "outputId": "3ad8ca40-9751-4606-e1de-4632b6e5be06"
      },
      "execution_count": null,
      "outputs": [
        {
          "output_type": "stream",
          "name": "stdout",
          "text": [
            "[[[ 5 16]\n",
            "  [10 34]]\n",
            "\n",
            " [[ 3  1]\n",
            "  [30  4]]]\n"
          ]
        }
      ]
    },
    {
      "cell_type": "code",
      "source": [
        "#replace multiple rows:\n",
        "p[:,0,:] = [4, 16]\n",
        "print(p)"
      ],
      "metadata": {
        "colab": {
          "base_uri": "https://localhost:8080/"
        },
        "id": "iQxD8Ry0v3jF",
        "outputId": "acd19949-b7e0-43f9-c210-776035b4254f"
      },
      "execution_count": null,
      "outputs": [
        {
          "output_type": "stream",
          "name": "stdout",
          "text": [
            "[[[ 4 16]\n",
            "  [10 34]]\n",
            "\n",
            " [[ 4 16]\n",
            "  [30  4]]]\n"
          ]
        }
      ]
    },
    {
      "cell_type": "code",
      "source": [
        "#all 0's matrix:\n",
        "y = np.zeros([])\n",
        "print(y)"
      ],
      "metadata": {
        "colab": {
          "base_uri": "https://localhost:8080/"
        },
        "id": "bal5Y-mDv3md",
        "outputId": "bdc3ae7b-920d-46cb-e1f6-a3d5fcbd6b8f"
      },
      "execution_count": null,
      "outputs": [
        {
          "output_type": "stream",
          "name": "stdout",
          "text": [
            "0.0\n"
          ]
        }
      ]
    },
    {
      "cell_type": "code",
      "source": [
        "np.full_like(p,[99,99])"
      ],
      "metadata": {
        "colab": {
          "base_uri": "https://localhost:8080/"
        },
        "id": "be4bd-zPv3pl",
        "outputId": "f91e46a1-792b-4b2b-d270-0d983b7a44e6"
      },
      "execution_count": null,
      "outputs": [
        {
          "output_type": "execute_result",
          "data": {
            "text/plain": [
              "array([[[99, 99],\n",
              "        [99, 99]],\n",
              "\n",
              "       [[99, 99],\n",
              "        [99, 99]]])"
            ]
          },
          "metadata": {},
          "execution_count": 43
        }
      ]
    },
    {
      "cell_type": "code",
      "source": [
        "np.identity(2)"
      ],
      "metadata": {
        "colab": {
          "base_uri": "https://localhost:8080/"
        },
        "id": "g1uoS-A6v3sm",
        "outputId": "680f8eaf-28cb-47a2-909e-3e9779e75d85"
      },
      "execution_count": null,
      "outputs": [
        {
          "output_type": "execute_result",
          "data": {
            "text/plain": [
              "array([[1., 0.],\n",
              "       [0., 1.]])"
            ]
          },
          "metadata": {},
          "execution_count": 47
        }
      ]
    },
    {
      "cell_type": "code",
      "source": [
        "np.random.rand(4,2,3)"
      ],
      "metadata": {
        "colab": {
          "base_uri": "https://localhost:8080/"
        },
        "id": "IDYt54Ktv3wF",
        "outputId": "75f43136-7297-4a52-8476-cc79636991db"
      },
      "execution_count": null,
      "outputs": [
        {
          "output_type": "execute_result",
          "data": {
            "text/plain": [
              "array([[[0.30496744, 0.3062453 , 0.5265015 ],\n",
              "        [0.62309017, 0.69033531, 0.27870371]],\n",
              "\n",
              "       [[0.48826039, 0.93666445, 0.59799756],\n",
              "        [0.08316071, 0.54384134, 0.10590305]],\n",
              "\n",
              "       [[0.51495122, 0.30689182, 0.3388829 ],\n",
              "        [0.43870796, 0.85413872, 0.5868281 ]],\n",
              "\n",
              "       [[0.05493099, 0.96449811, 0.14544826],\n",
              "        [0.58477071, 0.45198122, 0.70305976]]])"
            ]
          },
          "metadata": {},
          "execution_count": 52
        }
      ]
    },
    {
      "cell_type": "code",
      "source": [
        "arr = np.array([[1,3,2]])\n",
        "r2 = np.repeat(arr, 3, axis= 0)\n",
        "print(r2)"
      ],
      "metadata": {
        "colab": {
          "base_uri": "https://localhost:8080/"
        },
        "id": "XqdIiaJvv3za",
        "outputId": "f13314eb-7fac-42e2-de5b-860f0cdcbf7b"
      },
      "execution_count": null,
      "outputs": [
        {
          "output_type": "stream",
          "name": "stdout",
          "text": [
            "[[1 3 2]\n",
            " [1 3 2]\n",
            " [1 3 2]]\n"
          ]
        }
      ]
    },
    {
      "cell_type": "code",
      "source": [
        ""
      ],
      "metadata": {
        "id": "W7HdEWY0v32o"
      },
      "execution_count": null,
      "outputs": []
    }
  ]
}